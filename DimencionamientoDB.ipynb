{
 "cells": [
  {
   "cell_type": "code",
   "execution_count": 1,
   "metadata": {},
   "outputs": [
    {
     "name": "stdout",
     "output_type": "stream",
     "text": [
      "Ingresa los tipos de datos que tendra tu tabla\n",
      "Presiona: i para int|| f para float|| c para char|| v para varchar|| d para date|| b para bool|| s para salir\n",
      "Agregar:i\n",
      "i\n",
      "||int||\n",
      "4\n",
      "Agregar:f\n",
      "f\n",
      "||int||float||\n",
      "8\n",
      "Agregar:v\n",
      "Ingrese la longitud de la cadena:25\n",
      "v\n",
      "||int||float||varchar||\n",
      "33\n",
      "Agregar:d\n",
      "d\n",
      "||int||float||varchar||date||\n",
      "36\n",
      "Agregar:b\n",
      "b\n",
      "||int||float||varchar||date||bool||\n",
      "37\n",
      "Agregar:s\n",
      "s\n",
      "||int||float||varchar||date||bool||\n",
      "37\n",
      "Numero de filas:100\n",
      "Numero de paginas:40000\n",
      "El tamano de la BD es:148000000 bytes\n"
     ]
    }
   ],
   "source": [
    "tdato = \"a\"\n",
    "cad = \"||\"\n",
    "au = 0\n",
    "tam = 0\n",
    "pag = 0\n",
    "fil = 0\n",
    "val = \"a\"\n",
    "print (\"Ingresa los tipos de datos que tendra tu tabla\")\n",
    "print (\"Presiona: i para int|| f para float|| c para char|| v para varchar|| d para date|| b para bool|| s para salir\")\n",
    "while tdato != \"s\":\n",
    "    tdato = input(\"Agregar:\")\n",
    "    if tdato == \"i\":\n",
    "        au = 4\n",
    "        val = \"int||\"\n",
    "    elif tdato == \"f\":\n",
    "        au = 4\n",
    "        val = \"float||\"\n",
    "    elif tdato == \"c\":\n",
    "        au = 1\n",
    "        val = \"char||\"\n",
    "    elif tdato == \"v\":\n",
    "        au = int(input(\"Ingrese la longitud de la cadena:\"))\n",
    "        val = \"varchar||\"\n",
    "    elif tdato == \"d\":\n",
    "        au = 3\n",
    "        val = \"date||\"\n",
    "    elif tdato == \"b\":\n",
    "        au = 1\n",
    "        val = \"bool||\"\n",
    "    else:\n",
    "        au = 0\n",
    "        val = \"\"\n",
    "    cad = cad + val\n",
    "    tam = tam + au\n",
    "    print(tdato)\n",
    "    print (cad)\n",
    "    print(tam)\n",
    "fil = int(input(\"Numero de filas:\"))\n",
    "pag = int(input(\"Numero de paginas:\"))\n",
    "tam = int(tam) * int(fil) * int(pag)\n",
    "print (\"El tamano de la BD es:\" + str(tam) + \" bytes\")"
   ]
  }
 ],
 "metadata": {
  "kernelspec": {
   "display_name": "Python 3",
   "language": "python",
   "name": "python3"
  },
  "language_info": {
   "codemirror_mode": {
    "name": "ipython",
    "version": 3
   },
   "file_extension": ".py",
   "mimetype": "text/x-python",
   "name": "python",
   "nbconvert_exporter": "python",
   "pygments_lexer": "ipython3",
   "version": "3.6.7"
  }
 },
 "nbformat": 4,
 "nbformat_minor": 2
}
