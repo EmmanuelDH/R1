{
  "nbformat": 4,
  "nbformat_minor": 0,
  "metadata": {
    "colab": {
      "name": "Untitled0.ipynb",
      "version": "0.3.2",
      "provenance": [],
      "collapsed_sections": []
    },
    "kernelspec": {
      "name": "python3",
      "display_name": "Python 3"
    }
  },
  "cells": [
    {
      "cell_type": "code",
      "metadata": {
        "id": "R5oUvRaKbRmj",
        "colab_type": "code",
        "colab": {}
      },
      "source": [
        ""
      ],
      "execution_count": 0,
      "outputs": []
    },
    {
      "cell_type": "markdown",
      "metadata": {
        "id": "vAWyHIXabdkl",
        "colab_type": "text"
      },
      "source": [
        "Emmanuel Duran\n",
        "Practica 0 "
      ]
    },
    {
      "cell_type": "code",
      "metadata": {
        "id": "QSmoHQv9cGcm",
        "colab_type": "code",
        "colab": {}
      },
      "source": [
        "##Emmanuel Duran"
      ],
      "execution_count": 0,
      "outputs": []
    },
    {
      "cell_type": "markdown",
      "metadata": {
        "id": "jVwgiOKwcRYP",
        "colab_type": "text"
      },
      "source": [
        "##Emmauel Duran\n",
        "###Practica 0\n"
      ]
    },
    {
      "cell_type": "markdown",
      "metadata": {
        "id": "IbDzwHi4cPNm",
        "colab_type": "text"
      },
      "source": [
        ""
      ]
    }
  ]
}